{
 "cells": [
  {
   "cell_type": "markdown",
   "metadata": {
    "colab_type": "text",
    "execution": {},
    "id": "view-in-github"
   },
   "source": [
    "<a href=\"https://colab.research.google.com/github/NeuromatchAcademy/course-content/blob/main/tutorials/W1D1_ModelTypes/W1D1_Intro.ipynb\" target=\"_parent\"><img src=\"https://colab.research.google.com/assets/colab-badge.svg\" alt=\"Open In Colab\"/></a> &nbsp; <a href=\"https://kaggle.com/kernels/welcome?src=https://raw.githubusercontent.com/NeuromatchAcademy/course-content/main/tutorials/W1D1_ModelTypes/W1D1_Intro.ipynb\" target=\"_parent\"><img src=\"https://kaggle.com/static/images/open-in-kaggle.svg\" alt=\"Open in Kaggle\"/></a>"
   ]
  },
  {
   "cell_type": "markdown",
   "metadata": {
    "execution": {},
    "pycharm": {
     "name": "#%% md\n"
    }
   },
   "source": [
    "# Intro"
   ]
  },
  {
   "cell_type": "markdown",
   "metadata": {},
   "source": [
    "# Priming for Day 1 - Intro video.\n",
    "\n",
    "### Core concepts: What one or two big ideas are they introducing?\n",
    "\n",
    "* Analysis, modelling, and experiments make the trifecta of knowledge for scientific progress. Cycle of discovery \n",
    "* Dayan and Abbott, 2001 = What, how, and why models for descriptive/mechanism/causal modelling of neural activity.\n",
    "* Models are helpful for synthesizing knowledge, identifying assumptions, giving mechanistic insights, retrieve latent information, develop medical applications, and help design new experiments.\n",
    "\n",
    "### Inputs/outputs: What are the variables or data inputs? What are the results or outputs?\n",
    "\n",
    "* _Descriptive model_: Cosine Tuning (CT) = firing rate of a neuron vs. direction of movement\n",
    "* _Mechanistic model_: Hodkins and Huxley model (HH) = changes in membrane potential over time. Focused on developing a differential equation that could describe dv/dt as a function of K ions, Na ions, permeability, and external-currents.  \n",
    "* _Causal model_: Reinforcement learning =  Multiple inputs (environment, action options, reward signal, value estimates) and outputs (action selected, predicted value, and policy update).\n",
    "\n",
    "### Assumptions: Are they simplifying reality in any way to make modeling easier?\n",
    "\n",
    "* Descriptive model doesn't consider mechanism or causal reason behind neural activity.\n",
    "* Mechanistic model can't explain why certain features of the model have certain properties.\n",
    "* Causal models like reinforcement learning can't explain HOW it takes place.\n",
    "\n",
    "### Vocabulary flags: Any new terms or symbols (e.g., τ, Δt, refractory period)?\n",
    "\n",
    "* Cosine Tuning (CT) = spatial response profile of neurons with respect to stimulus/movement that can be approximated with a cosine function.\n",
    "* Rasta plot\n",
    "* HH model (conductance based model)\n",
    "* Reinforcement learning\n",
    "* Latent information\n",
    "* Poisson distribution"
   ]
  },
  {
   "cell_type": "markdown",
   "metadata": {
    "execution": {},
    "pycharm": {
     "name": "#%% md\n"
    }
   },
   "source": [
    "## Overview\n",
    "\n",
    "The first two days of NMA are all about the process of modeling and what models are. It’s important to learn about these meta-modeling aspects before diving into different kinds of modeling tools during the remainder of NMA. So today will be about the diversity of models and what different models can do for us. Typically everyone has an intuition about how different analysis tools can extract different kinds of information from experimental data; you choose a different analysis depending on your question. However, this is less appreciated for models. But it’s the same for them; you want to build a different kind of model to answer different kinds of questions. It all depends on your goals. So today, we will examine three kinds of models that we can classify as (according to Dayan and Abbott, 2001): **what**, **how**, and **why** models.\n",
    "\n",
    "Each tutorial will guide you through one of those models to describe the exact same data: the time interval between neuronal action potentials, aka inter-spike interval (ISI). In tutorial 1, we will ask what function best describes the shape of the ISI distribution (it’s an exponential distribution). Such a “what” model can compactly describe the ISI distribution and allows, for example, to quantify ISI properties across datasets, task conditions, brain areas etc. In tutorial 2, we ask which mechanism could generate the observed ISI distribution. Such a “how” model proposes a specific way that a system produces the observed behavior. Here, you will see that it’s a balance between excitation and inhibition that generates exponentially distributed ISIs. Finally we will ask “why” the exponential distribution is the most optimal way to code information in neurons. “Why” models thus ask about the underlying principles of a phenomenon.\n",
    "\n",
    "In any research, we typically start with descriptive (“what”) models; you will see examples of those during the model fitting, GLM, dimensionality reduction, and deep learning days. Next, we often ask about the mechanisms and build “how” models to generate or test hypotheses of underlying mechanisms; examples of those will be in linear systems, real neurons, dynamic networks, and decision making days. Ultimately, we are usually interested in the underlying reason of why the phenomenon exists in the first place; examples of those are in Bayes, optimal Control, and reinforcement learning days. “Why” models are often the hardest to achieve; “what” models are usually the easiest. But more importantly, they allow answering different questions, provide different insights and have different utilities. Thinking about the question I want to answer, why I want to answer this question (i.e. my goal) and the hypotheses I want to evaluate determines my own modeling choices every day. The resulting diversity in models is great because all models address different facets of a problem (like in today's 3 tutorials) and are thus complementary in our quest for knowledge. Today’s materials will hopefully allow you to better appreciate the opportunities and limitations offered by all the modeling tools you will learn during NMA."
   ]
  }
 ],
 "metadata": {
  "colab": {
   "collapsed_sections": [],
   "include_colab_link": true,
   "name": "W1D1_Intro",
   "provenance": [],
   "toc_visible": true
  },
  "kernel": {
   "display_name": "Python 3",
   "language": "python",
   "name": "python3"
  },
  "kernelspec": {
   "display_name": "Python 3 (ipykernel)",
   "language": "python",
   "name": "python3"
  },
  "language_info": {
   "codemirror_mode": {
    "name": "ipython",
    "version": 3
   },
   "file_extension": ".py",
   "mimetype": "text/x-python",
   "name": "python",
   "nbconvert_exporter": "python",
   "pygments_lexer": "ipython3",
   "version": "3.11.3"
  }
 },
 "nbformat": 4,
 "nbformat_minor": 1
}
